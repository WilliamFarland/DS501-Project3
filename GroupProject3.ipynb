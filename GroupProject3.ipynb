{
 "cells": [
  {
   "cell_type": "markdown",
   "source": [
    "# Project 3\n",
    "# DS 501 - Introduction to Data Science\n",
    "# Group 3&5"
   ],
   "metadata": {
    "collapsed": false
   }
  },
  {
   "cell_type": "markdown",
   "source": [
    "___\n",
    "\n",
    "# Problem 1 (20 points): Complete Exercise 2: Sentiment Analysis on Movie Reviews from http://scikit-learn.org/stable/tutorial/text_analytics/working_with_text_data.html"
   ],
   "metadata": {
    "collapsed": false
   }
  },
  {
   "cell_type": "markdown",
   "metadata": {},
   "source": [
    "## Part 1; Problem 1: Downloading Data\n",
    "Modify the solution on Exercise 2 so that it can run in this iPython notebook\n",
    "* This will likely involved moving around data files and/or small modifications to the script."
   ]
  },
  {
   "cell_type": "markdown",
   "source": [
    "### Download Data Script"
   ],
   "metadata": {
    "collapsed": false
   }
  },
  {
   "cell_type": "code",
   "execution_count": 2,
   "outputs": [],
   "source": [
    "\"\"\"Script to download the movie review dataset\"\"\"\n",
    "\n",
    "from pathlib import Path\n",
    "from hashlib import sha256\n",
    "import tarfile\n",
    "from urllib.request import urlopen\n",
    "\n",
    "\n",
    "URL = \"http://www.cs.cornell.edu/people/pabo/movie-review-data/review_polarity.tar.gz\"\n",
    "\n",
    "ARCHIVE_SHA256 = \"fc0dccc2671af5db3c5d8f81f77a1ebfec953ecdd422334062df61ede36b2179\"\n",
    "ARCHIVE_NAME = Path(URL.rsplit(\"/\", 1)[1])\n",
    "DATA_FOLDER = Path(\"txt_sentoken\")\n",
    "\n",
    "\n",
    "if not DATA_FOLDER.exists():\n",
    "\n",
    "    if not ARCHIVE_NAME.exists():\n",
    "        print(\"Downloading dataset from %s (3 MB)\" % URL)\n",
    "        opener = urlopen(URL)\n",
    "        with open(ARCHIVE_NAME, \"wb\") as archive:\n",
    "            archive.write(opener.read())\n",
    "\n",
    "    try:\n",
    "        print(\"Checking the integrity of the archive\")\n",
    "        assert sha256(ARCHIVE_NAME.read_bytes()).hexdigest() == ARCHIVE_SHA256\n",
    "\n",
    "        print(\"Decompressing %s\" % ARCHIVE_NAME)\n",
    "        with tarfile.open(ARCHIVE_NAME, \"r:gz\") as archive:\n",
    "            archive.extractall(path=\".\")\n",
    "\n",
    "    finally:\n",
    "        ARCHIVE_NAME.unlink()"
   ],
   "metadata": {
    "collapsed": false
   }
  },
  {
   "cell_type": "markdown",
   "source": [
    "## Part 2; Problem 1: Sentiment Analysis"
   ],
   "metadata": {
    "collapsed": false
   }
  },
  {
   "cell_type": "markdown",
   "source": [
    "### Imports"
   ],
   "metadata": {
    "collapsed": false
   }
  },
  {
   "cell_type": "code",
   "execution_count": 3,
   "outputs": [],
   "source": [
    "import sys\n",
    "from sklearn.feature_extraction.text import TfidfVectorizer\n",
    "from sklearn.svm import LinearSVC\n",
    "from sklearn.pipeline import Pipeline\n",
    "from sklearn.model_selection import GridSearchCV\n",
    "from sklearn.datasets import load_files\n",
    "from sklearn.model_selection import train_test_split\n",
    "from sklearn import metrics\n"
   ],
   "metadata": {
    "collapsed": false
   }
  },
  {
   "cell_type": "markdown",
   "source": [
    "### Check number of samples and if prev script(s) ran properly"
   ],
   "metadata": {
    "collapsed": false
   }
  },
  {
   "cell_type": "code",
   "execution_count": 4,
   "outputs": [
    {
     "name": "stdout",
     "output_type": "stream",
     "text": [
      "n_samples: 2000\n"
     ]
    }
   ],
   "source": [
    "\n",
    "# the training data folder must be passed as first argument\n",
    "movie_reviews_data_folder = DATA_FOLDER\n",
    "dataset = load_files(movie_reviews_data_folder, shuffle=False)\n",
    "print(\"n_samples: %d\" % len(dataset.data))\n",
    "\n"
   ],
   "metadata": {
    "collapsed": false
   }
  },
  {
   "cell_type": "markdown",
   "source": [
    "### Sentiment Analysis"
   ],
   "metadata": {
    "collapsed": false
   }
  },
  {
   "cell_type": "code",
   "execution_count": 5,
   "outputs": [
    {
     "name": "stderr",
     "output_type": "stream",
     "text": [
      "C:\\Users\\Willi\\anaconda3\\lib\\site-packages\\sklearn\\svm\\_base.py:1206: ConvergenceWarning: Liblinear failed to converge, increase the number of iterations.\n",
      "  warnings.warn(\n"
     ]
    },
    {
     "name": "stdout",
     "output_type": "stream",
     "text": [
      "0 params - {'vect__ngram_range': (1, 1)}; mean - 0.83; std - 0.00\n",
      "1 params - {'vect__ngram_range': (1, 2)}; mean - 0.85; std - 0.02\n",
      "              precision    recall  f1-score   support\n",
      "\n",
      "         neg       0.88      0.87      0.88       260\n",
      "         pos       0.86      0.88      0.87       240\n",
      "\n",
      "    accuracy                           0.87       500\n",
      "   macro avg       0.87      0.87      0.87       500\n",
      "weighted avg       0.87      0.87      0.87       500\n",
      "\n",
      "[[226  34]\n",
      " [ 30 210]]\n"
     ]
    }
   ],
   "source": [
    "\n",
    "# split the dataset in training and test set:\n",
    "docs_train, docs_test, y_train, y_test = train_test_split(\n",
    "    dataset.data, dataset.target, test_size=0.25, random_state=None)\n",
    "\n",
    "# TASK: Build a vectorizer / classifier pipeline that filters out tokens\n",
    "# that are too rare or too frequent\n",
    "pipeline = Pipeline([\n",
    "    ('vect', TfidfVectorizer(min_df=3, max_df=0.95)),\n",
    "    ('clf', LinearSVC(C=5000)),\n",
    "])\n",
    "\n",
    "# TASK: Build a grid search to find out whether unigrams or bigrams are\n",
    "# more useful.\n",
    "# Fit the pipeline on the training set using grid search for the parameters\n",
    "parameters = {\n",
    "    'vect__ngram_range': [(1, 1), (1, 2)],\n",
    "}\n",
    "grid_search = GridSearchCV(pipeline, parameters, n_jobs=-1)\n",
    "grid_search.fit(docs_train, y_train)\n",
    "\n",
    "# TASK: print the mean and std for each candidate along with the parameter\n",
    "# settings for all the candidates explored by grid search.\n",
    "n_candidates = len(grid_search.cv_results_['params'])\n",
    "for i in range(n_candidates):\n",
    "    print(i, 'params - %s; mean - %0.2f; std - %0.2f'\n",
    "          % (grid_search.cv_results_['params'][i],\n",
    "             grid_search.cv_results_['mean_test_score'][i],\n",
    "             grid_search.cv_results_['std_test_score'][i]))\n",
    "\n",
    "# TASK: Predict the outcome on the testing set and store it in a variable\n",
    "# named y_predicted\n",
    "y_predicted = grid_search.predict(docs_test)\n",
    "\n",
    "# Print the classification report\n",
    "print(metrics.classification_report(y_test, y_predicted,\n",
    "                                    target_names=dataset.target_names))\n",
    "\n",
    "# Print and plot the confusion matrix\n",
    "cm = metrics.confusion_matrix(y_test, y_predicted)\n",
    "print(cm)\n",
    "\n",
    "# import matplotlib.pyplot as plt\n",
    "# plt.matshow(cm)\n",
    "# plt.show()"
   ],
   "metadata": {
    "collapsed": false
   }
  },
  {
   "cell_type": "markdown",
   "metadata": {},
   "source": [
    "___\n",
    "# Problem 2 (20 points): Explore the Scikit-learn TfidfVectorizer Class\n",
    "\n",
    "**Read the documentation for the TfidfVectorizer class at https://scikit-learn.org/stable/modules/generated/sklearn.feature_extraction.text.TfidfVectorizer.html.** \n"
   ]
  },
  {
   "cell_type": "markdown",
   "source": [
    "## Part 1; Problem 2:\n",
    " Define the term frequency–inverse document frequency (TF-IDF) statistic (https://en.wikipedia.org/wiki/Tf%E2%80%93idf) will likely help."
   ],
   "metadata": {
    "collapsed": false
   }
  },
  {
   "cell_type": "markdown",
   "source": [
    "### Definition of TF-IDF\n",
    "\n",
    "TF-IDF stands for \"Term Frequency-Inverse Document Frequency.\" It is a way of figuring out how important a word is in a document or a piece of writing.\n",
    "\n",
    "Let's say you have a book about cats. In this book, the word \"cat\" is used a lot because it's the main topic of the book. But the word \"dog\" is only used a few times because it's not really related to the subject of the book.\n",
    "\n",
    "TF-IDF takes into account both the number of times a word appears in a document (the \"Term Frequency\") and how rare that word is in all the other documents (the \"Inverse Document Frequency\").\n",
    "\n",
    "So, in the example of the book about cats, the word \"cat\" would have a high TF-IDF score because it appears frequently in the book and is relevant to the topic. The word \"dog\" would have a low TF-IDF score because it appears infrequently and is not as relevant to the topic.\n",
    "\n",
    "Basically, TF-IDF helps us understand which words are most important in a document and which ones are less important."
   ],
   "metadata": {
    "collapsed": false
   }
  },
  {
   "cell_type": "markdown",
   "source": [
    "## Part 2; Problem 2:\n",
    " Run the TfidfVectorizer class on the training data above (docs_train).\n"
   ],
   "metadata": {
    "collapsed": false
   }
  },
  {
   "cell_type": "code",
   "execution_count": 6,
   "metadata": {},
   "outputs": [
    {
     "name": "stdout",
     "output_type": "stream",
     "text": [
      "Output Shape: (1500, 252)\n"
     ]
    },
    {
     "data": {
      "text/plain": "      about    acting    action     actor    actors  actually     after  \\\n0  0.106897  0.020711  0.000000  0.022802  0.042791  0.000000  0.000000   \n1  0.000000  0.000000  0.069684  0.000000  0.073734  0.000000  0.050012   \n2  0.000000  0.000000  0.175705  0.000000  0.000000  0.000000  0.063051   \n3  0.050233  0.087594  0.000000  0.000000  0.000000  0.000000  0.000000   \n4  0.043636  0.076091  0.074286  0.000000  0.000000  0.074134  0.000000   \n\n      again       all    almost  ...  without     work     world     would  \\\n0  0.021185  0.077459  0.020409  ...      0.0  0.00000  0.181235  0.056831   \n1  0.000000  0.076270  0.000000  ...      0.0  0.00000  0.000000  0.146893   \n2  0.092043  0.096155  0.000000  ...      0.0  0.00000  0.000000  0.000000   \n3  0.000000  0.093599  0.000000  ...      0.0  0.00000  0.000000  0.000000   \n4  0.000000  0.162614  0.000000  ...      0.0  0.13433  0.073982  0.000000   \n\n       year     years       yet       you     young     your  \n0  0.000000  0.019754  0.000000  0.175588  0.000000  0.02022  \n1  0.000000  0.000000  0.000000  0.201709  0.073410  0.00000  \n2  0.085657  0.000000  0.000000  0.101720  0.092549  0.00000  \n3  0.000000  0.000000  0.000000  0.049507  0.000000  0.00000  \n4  0.000000  0.000000  0.080483  0.043006  0.000000  0.00000  \n\n[5 rows x 252 columns]",
      "text/html": "<div>\n<style scoped>\n    .dataframe tbody tr th:only-of-type {\n        vertical-align: middle;\n    }\n\n    .dataframe tbody tr th {\n        vertical-align: top;\n    }\n\n    .dataframe thead th {\n        text-align: right;\n    }\n</style>\n<table border=\"1\" class=\"dataframe\">\n  <thead>\n    <tr style=\"text-align: right;\">\n      <th></th>\n      <th>about</th>\n      <th>acting</th>\n      <th>action</th>\n      <th>actor</th>\n      <th>actors</th>\n      <th>actually</th>\n      <th>after</th>\n      <th>again</th>\n      <th>all</th>\n      <th>almost</th>\n      <th>...</th>\n      <th>without</th>\n      <th>work</th>\n      <th>world</th>\n      <th>would</th>\n      <th>year</th>\n      <th>years</th>\n      <th>yet</th>\n      <th>you</th>\n      <th>young</th>\n      <th>your</th>\n    </tr>\n  </thead>\n  <tbody>\n    <tr>\n      <th>0</th>\n      <td>0.106897</td>\n      <td>0.020711</td>\n      <td>0.000000</td>\n      <td>0.022802</td>\n      <td>0.042791</td>\n      <td>0.000000</td>\n      <td>0.000000</td>\n      <td>0.021185</td>\n      <td>0.077459</td>\n      <td>0.020409</td>\n      <td>...</td>\n      <td>0.0</td>\n      <td>0.00000</td>\n      <td>0.181235</td>\n      <td>0.056831</td>\n      <td>0.000000</td>\n      <td>0.019754</td>\n      <td>0.000000</td>\n      <td>0.175588</td>\n      <td>0.000000</td>\n      <td>0.02022</td>\n    </tr>\n    <tr>\n      <th>1</th>\n      <td>0.000000</td>\n      <td>0.000000</td>\n      <td>0.069684</td>\n      <td>0.000000</td>\n      <td>0.073734</td>\n      <td>0.000000</td>\n      <td>0.050012</td>\n      <td>0.000000</td>\n      <td>0.076270</td>\n      <td>0.000000</td>\n      <td>...</td>\n      <td>0.0</td>\n      <td>0.00000</td>\n      <td>0.000000</td>\n      <td>0.146893</td>\n      <td>0.000000</td>\n      <td>0.000000</td>\n      <td>0.000000</td>\n      <td>0.201709</td>\n      <td>0.073410</td>\n      <td>0.00000</td>\n    </tr>\n    <tr>\n      <th>2</th>\n      <td>0.000000</td>\n      <td>0.000000</td>\n      <td>0.175705</td>\n      <td>0.000000</td>\n      <td>0.000000</td>\n      <td>0.000000</td>\n      <td>0.063051</td>\n      <td>0.092043</td>\n      <td>0.096155</td>\n      <td>0.000000</td>\n      <td>...</td>\n      <td>0.0</td>\n      <td>0.00000</td>\n      <td>0.000000</td>\n      <td>0.000000</td>\n      <td>0.085657</td>\n      <td>0.000000</td>\n      <td>0.000000</td>\n      <td>0.101720</td>\n      <td>0.092549</td>\n      <td>0.00000</td>\n    </tr>\n    <tr>\n      <th>3</th>\n      <td>0.050233</td>\n      <td>0.087594</td>\n      <td>0.000000</td>\n      <td>0.000000</td>\n      <td>0.000000</td>\n      <td>0.000000</td>\n      <td>0.000000</td>\n      <td>0.000000</td>\n      <td>0.093599</td>\n      <td>0.000000</td>\n      <td>...</td>\n      <td>0.0</td>\n      <td>0.00000</td>\n      <td>0.000000</td>\n      <td>0.000000</td>\n      <td>0.000000</td>\n      <td>0.000000</td>\n      <td>0.000000</td>\n      <td>0.049507</td>\n      <td>0.000000</td>\n      <td>0.00000</td>\n    </tr>\n    <tr>\n      <th>4</th>\n      <td>0.043636</td>\n      <td>0.076091</td>\n      <td>0.074286</td>\n      <td>0.000000</td>\n      <td>0.000000</td>\n      <td>0.074134</td>\n      <td>0.000000</td>\n      <td>0.000000</td>\n      <td>0.162614</td>\n      <td>0.000000</td>\n      <td>...</td>\n      <td>0.0</td>\n      <td>0.13433</td>\n      <td>0.073982</td>\n      <td>0.000000</td>\n      <td>0.000000</td>\n      <td>0.000000</td>\n      <td>0.080483</td>\n      <td>0.043006</td>\n      <td>0.000000</td>\n      <td>0.00000</td>\n    </tr>\n  </tbody>\n</table>\n<p>5 rows × 252 columns</p>\n</div>"
     },
     "execution_count": 6,
     "metadata": {},
     "output_type": "execute_result"
    }
   ],
   "source": [
    "import pandas as pd\n",
    "\n",
    "def run_vectorizer(min, max):\n",
    "    vectorizer = TfidfVectorizer(min_df=min, max_df=max)\n",
    "\n",
    "\n",
    "    vectors = vectorizer.fit_transform(docs_train)\n",
    "    feature_names = vectorizer.get_feature_names_out()\n",
    "    dense = vectors.todense()\n",
    "    denselist = dense.tolist()\n",
    "    df = pd.DataFrame(denselist, columns=feature_names)\n",
    "\n",
    "    print(f\"Output Shape: {df.shape}\")\n",
    "    return df\n",
    "\n",
    "df = run_vectorizer(0.2, 0.95)\n",
    "df.head()"
   ]
  },
  {
   "cell_type": "markdown",
   "source": [
    "### Part 3; Problem 2:\n",
    "- Explore the min_df and max_df parameters of TfidfVectorizer.\n",
    "- What do they mean? How do they change the features you get?\n"
   ],
   "metadata": {
    "collapsed": false
   }
  },
  {
   "cell_type": "markdown",
   "source": [
    "##### Book Definition\n",
    "\n",
    "**min_df definition: min_dffloat or int, default=1**\n",
    "    - When building the vocabulary ignore terms that have a document frequency strictly lower than the given threshold. This value is also called cut-off in the literature. If float in range of [0.0, 1.0], the parameter represents a proportion of documents, integer absolute counts. This parameter is ignored if vocabulary is not None.\n",
    "\n",
    "**max_df definition: max_dffloat or int, default=1.0**\n",
    "    - When building the vocabulary ignore terms that have a document frequency strictly higher than the given threshold (corpus-specific stop words). If float in range [0.0, 1.0], the parameter represents a proportion of documents, integer absolute counts. This parameter is ignored if vocabulary is not None.\n",
    "\n",
    "Explanation:"
   ],
   "metadata": {
    "collapsed": false
   }
  },
  {
   "cell_type": "markdown",
   "source": [
    "Min DF =0, Max DF=0.95"
   ],
   "metadata": {
    "collapsed": false
   }
  },
  {
   "cell_type": "code",
   "execution_count": 7,
   "outputs": [
    {
     "name": "stdout",
     "output_type": "stream",
     "text": [
      "Output Shape: (1500, 35341)\n"
     ]
    },
    {
     "data": {
      "text/plain": "    00  000  0009f  007  00s   03   04   05  05425   10  ...  zuko  zukovsky  \\\n0  0.0  0.0    0.0  0.0  0.0  0.0  0.0  0.0    0.0  0.0  ...   0.0       0.0   \n1  0.0  0.0    0.0  0.0  0.0  0.0  0.0  0.0    0.0  0.0  ...   0.0       0.0   \n2  0.0  0.0    0.0  0.0  0.0  0.0  0.0  0.0    0.0  0.0  ...   0.0       0.0   \n3  0.0  0.0    0.0  0.0  0.0  0.0  0.0  0.0    0.0  0.0  ...   0.0       0.0   \n4  0.0  0.0    0.0  0.0  0.0  0.0  0.0  0.0    0.0  0.0  ...   0.0       0.0   \n\n   zulu  zundel  zurg  zweibel  zwick  zwigoff  zycie  zzzzzzz  \n0   0.0     0.0   0.0      0.0    0.0      0.0    0.0      0.0  \n1   0.0     0.0   0.0      0.0    0.0      0.0    0.0      0.0  \n2   0.0     0.0   0.0      0.0    0.0      0.0    0.0      0.0  \n3   0.0     0.0   0.0      0.0    0.0      0.0    0.0      0.0  \n4   0.0     0.0   0.0      0.0    0.0      0.0    0.0      0.0  \n\n[5 rows x 35341 columns]",
      "text/html": "<div>\n<style scoped>\n    .dataframe tbody tr th:only-of-type {\n        vertical-align: middle;\n    }\n\n    .dataframe tbody tr th {\n        vertical-align: top;\n    }\n\n    .dataframe thead th {\n        text-align: right;\n    }\n</style>\n<table border=\"1\" class=\"dataframe\">\n  <thead>\n    <tr style=\"text-align: right;\">\n      <th></th>\n      <th>00</th>\n      <th>000</th>\n      <th>0009f</th>\n      <th>007</th>\n      <th>00s</th>\n      <th>03</th>\n      <th>04</th>\n      <th>05</th>\n      <th>05425</th>\n      <th>10</th>\n      <th>...</th>\n      <th>zuko</th>\n      <th>zukovsky</th>\n      <th>zulu</th>\n      <th>zundel</th>\n      <th>zurg</th>\n      <th>zweibel</th>\n      <th>zwick</th>\n      <th>zwigoff</th>\n      <th>zycie</th>\n      <th>zzzzzzz</th>\n    </tr>\n  </thead>\n  <tbody>\n    <tr>\n      <th>0</th>\n      <td>0.0</td>\n      <td>0.0</td>\n      <td>0.0</td>\n      <td>0.0</td>\n      <td>0.0</td>\n      <td>0.0</td>\n      <td>0.0</td>\n      <td>0.0</td>\n      <td>0.0</td>\n      <td>0.0</td>\n      <td>...</td>\n      <td>0.0</td>\n      <td>0.0</td>\n      <td>0.0</td>\n      <td>0.0</td>\n      <td>0.0</td>\n      <td>0.0</td>\n      <td>0.0</td>\n      <td>0.0</td>\n      <td>0.0</td>\n      <td>0.0</td>\n    </tr>\n    <tr>\n      <th>1</th>\n      <td>0.0</td>\n      <td>0.0</td>\n      <td>0.0</td>\n      <td>0.0</td>\n      <td>0.0</td>\n      <td>0.0</td>\n      <td>0.0</td>\n      <td>0.0</td>\n      <td>0.0</td>\n      <td>0.0</td>\n      <td>...</td>\n      <td>0.0</td>\n      <td>0.0</td>\n      <td>0.0</td>\n      <td>0.0</td>\n      <td>0.0</td>\n      <td>0.0</td>\n      <td>0.0</td>\n      <td>0.0</td>\n      <td>0.0</td>\n      <td>0.0</td>\n    </tr>\n    <tr>\n      <th>2</th>\n      <td>0.0</td>\n      <td>0.0</td>\n      <td>0.0</td>\n      <td>0.0</td>\n      <td>0.0</td>\n      <td>0.0</td>\n      <td>0.0</td>\n      <td>0.0</td>\n      <td>0.0</td>\n      <td>0.0</td>\n      <td>...</td>\n      <td>0.0</td>\n      <td>0.0</td>\n      <td>0.0</td>\n      <td>0.0</td>\n      <td>0.0</td>\n      <td>0.0</td>\n      <td>0.0</td>\n      <td>0.0</td>\n      <td>0.0</td>\n      <td>0.0</td>\n    </tr>\n    <tr>\n      <th>3</th>\n      <td>0.0</td>\n      <td>0.0</td>\n      <td>0.0</td>\n      <td>0.0</td>\n      <td>0.0</td>\n      <td>0.0</td>\n      <td>0.0</td>\n      <td>0.0</td>\n      <td>0.0</td>\n      <td>0.0</td>\n      <td>...</td>\n      <td>0.0</td>\n      <td>0.0</td>\n      <td>0.0</td>\n      <td>0.0</td>\n      <td>0.0</td>\n      <td>0.0</td>\n      <td>0.0</td>\n      <td>0.0</td>\n      <td>0.0</td>\n      <td>0.0</td>\n    </tr>\n    <tr>\n      <th>4</th>\n      <td>0.0</td>\n      <td>0.0</td>\n      <td>0.0</td>\n      <td>0.0</td>\n      <td>0.0</td>\n      <td>0.0</td>\n      <td>0.0</td>\n      <td>0.0</td>\n      <td>0.0</td>\n      <td>0.0</td>\n      <td>...</td>\n      <td>0.0</td>\n      <td>0.0</td>\n      <td>0.0</td>\n      <td>0.0</td>\n      <td>0.0</td>\n      <td>0.0</td>\n      <td>0.0</td>\n      <td>0.0</td>\n      <td>0.0</td>\n      <td>0.0</td>\n    </tr>\n  </tbody>\n</table>\n<p>5 rows × 35341 columns</p>\n</div>"
     },
     "execution_count": 7,
     "metadata": {},
     "output_type": "execute_result"
    }
   ],
   "source": [
    "df = run_vectorizer(0, 0.95)\n",
    "df.head()\n"
   ],
   "metadata": {
    "collapsed": false
   }
  },
  {
   "cell_type": "markdown",
   "source": [
    "Min DF =0.5, Max DF=0.95"
   ],
   "metadata": {
    "collapsed": false
   }
  },
  {
   "cell_type": "code",
   "execution_count": 8,
   "outputs": [
    {
     "name": "stdout",
     "output_type": "stream",
     "text": [
      "Output Shape: (1500, 66)\n"
     ]
    },
    {
     "data": {
      "text/plain": "      about     after       all      also        an       are        at  \\\n0  0.149481  0.000000  0.108316  0.061769  0.056161  0.156214  0.043913   \n1  0.000000  0.068128  0.103896  0.069124  0.047136  0.238383  0.049141   \n2  0.000000  0.102781  0.156744  0.000000  0.000000  0.000000  0.000000   \n3  0.077186  0.000000  0.143820  0.000000  0.130498  0.131994  0.068025   \n4  0.060163  0.000000  0.224202  0.000000  0.254292  0.051441  0.000000   \n\n         be      been       but  ...       way        we      well      what  \\\n0  0.127383  0.000000  0.172443  ...  0.042212  0.059963  0.020433  0.170431   \n1  0.285101  0.136879  0.267196  ...  0.070858  0.000000  0.068597  0.057217   \n2  0.071687  0.103252  0.134369  ...  0.106900  0.000000  0.310466  0.086321   \n3  0.263104  0.094739  0.246580  ...  0.000000  0.000000  0.000000  0.079204   \n4  0.102538  0.073844  0.192197  ...  0.000000  0.144804  0.074014  0.185207   \n\n       when     which       who      will     would       you  \n0  0.066714  0.071223  0.171103  0.000000  0.079471  0.245536  \n1  0.055993  0.000000  0.047869  0.000000  0.200100  0.274772  \n2  0.084474  0.000000  0.144435  0.000000  0.000000  0.165814  \n3  0.000000  0.082748  0.132527  0.094811  0.000000  0.076071  \n4  0.120829  0.000000  0.103298  0.000000  0.000000  0.059294  \n\n[5 rows x 66 columns]",
      "text/html": "<div>\n<style scoped>\n    .dataframe tbody tr th:only-of-type {\n        vertical-align: middle;\n    }\n\n    .dataframe tbody tr th {\n        vertical-align: top;\n    }\n\n    .dataframe thead th {\n        text-align: right;\n    }\n</style>\n<table border=\"1\" class=\"dataframe\">\n  <thead>\n    <tr style=\"text-align: right;\">\n      <th></th>\n      <th>about</th>\n      <th>after</th>\n      <th>all</th>\n      <th>also</th>\n      <th>an</th>\n      <th>are</th>\n      <th>at</th>\n      <th>be</th>\n      <th>been</th>\n      <th>but</th>\n      <th>...</th>\n      <th>way</th>\n      <th>we</th>\n      <th>well</th>\n      <th>what</th>\n      <th>when</th>\n      <th>which</th>\n      <th>who</th>\n      <th>will</th>\n      <th>would</th>\n      <th>you</th>\n    </tr>\n  </thead>\n  <tbody>\n    <tr>\n      <th>0</th>\n      <td>0.149481</td>\n      <td>0.000000</td>\n      <td>0.108316</td>\n      <td>0.061769</td>\n      <td>0.056161</td>\n      <td>0.156214</td>\n      <td>0.043913</td>\n      <td>0.127383</td>\n      <td>0.000000</td>\n      <td>0.172443</td>\n      <td>...</td>\n      <td>0.042212</td>\n      <td>0.059963</td>\n      <td>0.020433</td>\n      <td>0.170431</td>\n      <td>0.066714</td>\n      <td>0.071223</td>\n      <td>0.171103</td>\n      <td>0.000000</td>\n      <td>0.079471</td>\n      <td>0.245536</td>\n    </tr>\n    <tr>\n      <th>1</th>\n      <td>0.000000</td>\n      <td>0.068128</td>\n      <td>0.103896</td>\n      <td>0.069124</td>\n      <td>0.047136</td>\n      <td>0.238383</td>\n      <td>0.049141</td>\n      <td>0.285101</td>\n      <td>0.136879</td>\n      <td>0.267196</td>\n      <td>...</td>\n      <td>0.070858</td>\n      <td>0.000000</td>\n      <td>0.068597</td>\n      <td>0.057217</td>\n      <td>0.055993</td>\n      <td>0.000000</td>\n      <td>0.047869</td>\n      <td>0.000000</td>\n      <td>0.200100</td>\n      <td>0.274772</td>\n    </tr>\n    <tr>\n      <th>2</th>\n      <td>0.000000</td>\n      <td>0.102781</td>\n      <td>0.156744</td>\n      <td>0.000000</td>\n      <td>0.000000</td>\n      <td>0.000000</td>\n      <td>0.000000</td>\n      <td>0.071687</td>\n      <td>0.103252</td>\n      <td>0.134369</td>\n      <td>...</td>\n      <td>0.106900</td>\n      <td>0.000000</td>\n      <td>0.310466</td>\n      <td>0.086321</td>\n      <td>0.084474</td>\n      <td>0.000000</td>\n      <td>0.144435</td>\n      <td>0.000000</td>\n      <td>0.000000</td>\n      <td>0.165814</td>\n    </tr>\n    <tr>\n      <th>3</th>\n      <td>0.077186</td>\n      <td>0.000000</td>\n      <td>0.143820</td>\n      <td>0.000000</td>\n      <td>0.130498</td>\n      <td>0.131994</td>\n      <td>0.068025</td>\n      <td>0.263104</td>\n      <td>0.094739</td>\n      <td>0.246580</td>\n      <td>...</td>\n      <td>0.000000</td>\n      <td>0.000000</td>\n      <td>0.000000</td>\n      <td>0.079204</td>\n      <td>0.000000</td>\n      <td>0.082748</td>\n      <td>0.132527</td>\n      <td>0.094811</td>\n      <td>0.000000</td>\n      <td>0.076071</td>\n    </tr>\n    <tr>\n      <th>4</th>\n      <td>0.060163</td>\n      <td>0.000000</td>\n      <td>0.224202</td>\n      <td>0.000000</td>\n      <td>0.254292</td>\n      <td>0.051441</td>\n      <td>0.000000</td>\n      <td>0.102538</td>\n      <td>0.073844</td>\n      <td>0.192197</td>\n      <td>...</td>\n      <td>0.000000</td>\n      <td>0.144804</td>\n      <td>0.074014</td>\n      <td>0.185207</td>\n      <td>0.120829</td>\n      <td>0.000000</td>\n      <td>0.103298</td>\n      <td>0.000000</td>\n      <td>0.000000</td>\n      <td>0.059294</td>\n    </tr>\n  </tbody>\n</table>\n<p>5 rows × 66 columns</p>\n</div>"
     },
     "execution_count": 8,
     "metadata": {},
     "output_type": "execute_result"
    }
   ],
   "source": [
    "df = run_vectorizer(0.5, 0.95)\n",
    "df.head()"
   ],
   "metadata": {
    "collapsed": false
   }
  },
  {
   "cell_type": "markdown",
   "source": [
    "#### Answer:\n",
    "\n",
    "As we can see from the above examples changes the min df and max df changes the result words.\n",
    "\n",
    "If we increase the maximum this selects words that are more common throughout the document(s) such as: by, for it, on\n",
    "These very high frequency words might not be that interesting to the topic of the document or sentiment.\n",
    "\n",
    "If we decrease the minimum to 0 we see words such as yau, yatf, yearbook, zukovsky. These are very infrequent words that also might not be that interesting to the general sentiment of the document.\n"
   ],
   "metadata": {
    "collapsed": false
   }
  },
  {
   "cell_type": "markdown",
   "source": [
    "### Part 4; Problem 2\n",
    "Explore the ngram_range parameter of TfidfVectorizer. What does it mean? How does it change the features you get? (Note, large values  of ngram_range may take a long time to run!)\n",
    "\n",
    "**ngram_rangetuple (min_n, max_n), default=(1, 1)**\n",
    "    - The lower and upper boundary of the range of n-values for different n-grams to be extracted. All values of n such that min_n <= n <= max_n will be used. For example an ngram_range of (1, 1) means only unigrams, (1, 2) means unigrams and bigrams, and (2, 2) means only bigrams. Only applies if analyzer is not callable."
   ],
   "metadata": {
    "collapsed": false
   }
  },
  {
   "cell_type": "markdown",
   "source": [
    "Min DF=0.9, Max DF=.99"
   ],
   "metadata": {
    "collapsed": false
   }
  },
  {
   "cell_type": "code",
   "execution_count": 9,
   "outputs": [
    {
     "name": "stdout",
     "output_type": "stream",
     "text": [
      "Output Shape: (1500, 34810)\n"
     ]
    },
    {
     "data": {
      "text/plain": "    00  000  0009f  007  00s   03   04   05  05425   10  ...  zuko  zukovsky  \\\n0  0.0  0.0    0.0  0.0  0.0  0.0  0.0  0.0    0.0  0.0  ...   0.0       0.0   \n1  0.0  0.0    0.0  0.0  0.0  0.0  0.0  0.0    0.0  0.0  ...   0.0       0.0   \n2  0.0  0.0    0.0  0.0  0.0  0.0  0.0  0.0    0.0  0.0  ...   0.0       0.0   \n3  0.0  0.0    0.0  0.0  0.0  0.0  0.0  0.0    0.0  0.0  ...   0.0       0.0   \n4  0.0  0.0    0.0  0.0  0.0  0.0  0.0  0.0    0.0  0.0  ...   0.0       0.0   \n\n   zulu  zundel  zurg  zweibel  zwick  zwigoff  zycie  zzzzzzz  \n0   0.0     0.0   0.0      0.0    0.0      0.0    0.0      0.0  \n1   0.0     0.0   0.0      0.0    0.0      0.0    0.0      0.0  \n2   0.0     0.0   0.0      0.0    0.0      0.0    0.0      0.0  \n3   0.0     0.0   0.0      0.0    0.0      0.0    0.0      0.0  \n4   0.0     0.0   0.0      0.0    0.0      0.0    0.0      0.0  \n\n[5 rows x 34810 columns]",
      "text/html": "<div>\n<style scoped>\n    .dataframe tbody tr th:only-of-type {\n        vertical-align: middle;\n    }\n\n    .dataframe tbody tr th {\n        vertical-align: top;\n    }\n\n    .dataframe thead th {\n        text-align: right;\n    }\n</style>\n<table border=\"1\" class=\"dataframe\">\n  <thead>\n    <tr style=\"text-align: right;\">\n      <th></th>\n      <th>00</th>\n      <th>000</th>\n      <th>0009f</th>\n      <th>007</th>\n      <th>00s</th>\n      <th>03</th>\n      <th>04</th>\n      <th>05</th>\n      <th>05425</th>\n      <th>10</th>\n      <th>...</th>\n      <th>zuko</th>\n      <th>zukovsky</th>\n      <th>zulu</th>\n      <th>zundel</th>\n      <th>zurg</th>\n      <th>zweibel</th>\n      <th>zwick</th>\n      <th>zwigoff</th>\n      <th>zycie</th>\n      <th>zzzzzzz</th>\n    </tr>\n  </thead>\n  <tbody>\n    <tr>\n      <th>0</th>\n      <td>0.0</td>\n      <td>0.0</td>\n      <td>0.0</td>\n      <td>0.0</td>\n      <td>0.0</td>\n      <td>0.0</td>\n      <td>0.0</td>\n      <td>0.0</td>\n      <td>0.0</td>\n      <td>0.0</td>\n      <td>...</td>\n      <td>0.0</td>\n      <td>0.0</td>\n      <td>0.0</td>\n      <td>0.0</td>\n      <td>0.0</td>\n      <td>0.0</td>\n      <td>0.0</td>\n      <td>0.0</td>\n      <td>0.0</td>\n      <td>0.0</td>\n    </tr>\n    <tr>\n      <th>1</th>\n      <td>0.0</td>\n      <td>0.0</td>\n      <td>0.0</td>\n      <td>0.0</td>\n      <td>0.0</td>\n      <td>0.0</td>\n      <td>0.0</td>\n      <td>0.0</td>\n      <td>0.0</td>\n      <td>0.0</td>\n      <td>...</td>\n      <td>0.0</td>\n      <td>0.0</td>\n      <td>0.0</td>\n      <td>0.0</td>\n      <td>0.0</td>\n      <td>0.0</td>\n      <td>0.0</td>\n      <td>0.0</td>\n      <td>0.0</td>\n      <td>0.0</td>\n    </tr>\n    <tr>\n      <th>2</th>\n      <td>0.0</td>\n      <td>0.0</td>\n      <td>0.0</td>\n      <td>0.0</td>\n      <td>0.0</td>\n      <td>0.0</td>\n      <td>0.0</td>\n      <td>0.0</td>\n      <td>0.0</td>\n      <td>0.0</td>\n      <td>...</td>\n      <td>0.0</td>\n      <td>0.0</td>\n      <td>0.0</td>\n      <td>0.0</td>\n      <td>0.0</td>\n      <td>0.0</td>\n      <td>0.0</td>\n      <td>0.0</td>\n      <td>0.0</td>\n      <td>0.0</td>\n    </tr>\n    <tr>\n      <th>3</th>\n      <td>0.0</td>\n      <td>0.0</td>\n      <td>0.0</td>\n      <td>0.0</td>\n      <td>0.0</td>\n      <td>0.0</td>\n      <td>0.0</td>\n      <td>0.0</td>\n      <td>0.0</td>\n      <td>0.0</td>\n      <td>...</td>\n      <td>0.0</td>\n      <td>0.0</td>\n      <td>0.0</td>\n      <td>0.0</td>\n      <td>0.0</td>\n      <td>0.0</td>\n      <td>0.0</td>\n      <td>0.0</td>\n      <td>0.0</td>\n      <td>0.0</td>\n    </tr>\n    <tr>\n      <th>4</th>\n      <td>0.0</td>\n      <td>0.0</td>\n      <td>0.0</td>\n      <td>0.0</td>\n      <td>0.0</td>\n      <td>0.0</td>\n      <td>0.0</td>\n      <td>0.0</td>\n      <td>0.0</td>\n      <td>0.0</td>\n      <td>...</td>\n      <td>0.0</td>\n      <td>0.0</td>\n      <td>0.0</td>\n      <td>0.0</td>\n      <td>0.0</td>\n      <td>0.0</td>\n      <td>0.0</td>\n      <td>0.0</td>\n      <td>0.0</td>\n      <td>0.0</td>\n    </tr>\n  </tbody>\n</table>\n<p>5 rows × 34810 columns</p>\n</div>"
     },
     "execution_count": 9,
     "metadata": {},
     "output_type": "execute_result"
    }
   ],
   "source": [
    "df = run_vectorizer(0, 0.1)\n",
    "df.head()"
   ],
   "metadata": {
    "collapsed": false
   }
  },
  {
   "cell_type": "markdown",
   "source": [
    "**Definition** ngram_rangetuple (min_n, max_n), default=(1, 1)\n",
    "The lower and upper boundary of the range of n-values for different word n-grams or char n-grams to be extracted. All values of n such such that min_n <= n <= max_n will be used. For example an ngram_range of (1, 1) means only unigrams, (1, 2) means unigrams and bigrams, and (2, 2) means only bigrams. Only applies if analyzer is not callable."
   ],
   "metadata": {
    "collapsed": false
   }
  },
  {
   "cell_type": "code",
   "execution_count": 10,
   "outputs": [],
   "source": [
    "# Code Example\n"
   ],
   "metadata": {
    "collapsed": false
   }
  },
  {
   "cell_type": "markdown",
   "source": [
    "---\n",
    "## Problem 3 (20 points): Machine Learning Algorithms"
   ],
   "metadata": {
    "collapsed": false
   }
  },
  {
   "cell_type": "markdown",
   "metadata": {},
   "source": [
    "* Based upon Problem 2, pick some parameters for TfidfVectorizer\n",
    "    * \"fit\" your TfidfVectorizer using docs_train\n",
    "    * Compute \"Xtrain\", a Tf-idf-weighted document-term matrix using the transform function on docs_train\n",
    "    * Compute \"Xtest\", a Tf-idf-weighted document-term matrix using the transform function on docs_test\n",
    "    * Note, be sure to use the same Tf-idf-weighted class (**\"fit\" using docs_train**) to transform **both** docs_test and docs_train\n",
    "* Examine two classifiers provided by scikit-learn \n",
    "    * LinearSVC\n",
    "    * KNeighborsClassifier\n",
    "    * Try a number of different parameter settings for each and judge your performance using a confusion matrix (see Problem 1 for an example).\n",
    "* Does one classifier, or one set of parameters work better?\n",
    "    * Why do you think it might be working better?\n",
    "* For a particular choice of parameters and classifier, look at 2 examples where the prediction was incorrect.\n",
    "    * Can you conjecture on why the classifier made a mistake for this prediction?"
   ]
  },
  {
   "cell_type": "code",
   "execution_count": 16,
   "metadata": {},
   "outputs": [
    {
     "data": {
      "text/plain": "GridSearchCV(estimator=Pipeline(steps=[('vect',\n                                        TfidfVectorizer(max_df=0.9, min_df=3)),\n                                       ('clf',\n                                        KNeighborsClassifier(n_neighbors=3))]),\n             n_jobs=-1,\n             param_grid={'clf__n_neighbors': [3, 12, 15, 20],\n                         'vect__max_df': [0.7, 0.8, 0.9, 0.95],\n                         'vect__min_df': [3, 4, 5, 6],\n                         'vect__ngram_range': [(1, 1), (1, 3)]})"
     },
     "execution_count": 16,
     "metadata": {},
     "output_type": "execute_result"
    }
   ],
   "source": [
    "from sklearn.neighbors import KNeighborsClassifier\n",
    "\n",
    "vectorizer = TfidfVectorizer(min_df=3, max_df=0.90)\n",
    "\n",
    "pipeline1 = Pipeline([\n",
    "    ('vect', vectorizer),\n",
    "    ('clf', LinearSVC(C=15000)),\n",
    "])\n",
    "\n",
    "pipeline2 = Pipeline([\n",
    "    ('vect', vectorizer),\n",
    "    ('clf', KNeighborsClassifier(n_neighbors=3)),\n",
    "])\n",
    "\n",
    "\n",
    "parameters1 = {\n",
    "    'vect__ngram_range': [(1, 1), (1, 3)],\n",
    "    'vect__min_df': [3, 4, 5, 6],\n",
    "    'vect__max_df': [0.7, 0.8, 0.9, 0.95]\n",
    "}\n",
    "\n",
    "parameters2 = {\n",
    "    'vect__ngram_range': [(1, 1), (1, 3)],\n",
    "    'clf__n_neighbors': [3, 12, 15, 20],\n",
    "    'vect__min_df': [3, 4, 5, 6],\n",
    "    'vect__max_df': [0.7, 0.8, 0.9, 0.95]\n",
    "}\n",
    "\n",
    "grid_search_linear = GridSearchCV(pipeline1, parameters1, n_jobs=-1)\n",
    "grid_search_linear.fit(docs_train, y_train)\n",
    "\n",
    "grid_search_knn = GridSearchCV(pipeline2,parameters2, n_jobs=-1)\n",
    "grid_search_knn.fit(docs_train, y_train)\n",
    "\n"
   ]
  },
  {
   "cell_type": "code",
   "execution_count": 17,
   "outputs": [
    {
     "name": "stdout",
     "output_type": "stream",
     "text": [
      "Performance of Linear: \n",
      "\n",
      "0 params - {'vect__max_df': 0.7, 'vect__min_df': 3, 'vect__ngram_range': (1, 1)}; mean - 0.84; std - 0.00\n",
      "1 params - {'vect__max_df': 0.7, 'vect__min_df': 3, 'vect__ngram_range': (1, 3)}; mean - 0.85; std - 0.02\n",
      "2 params - {'vect__max_df': 0.7, 'vect__min_df': 4, 'vect__ngram_range': (1, 1)}; mean - 0.84; std - 0.00\n",
      "3 params - {'vect__max_df': 0.7, 'vect__min_df': 4, 'vect__ngram_range': (1, 3)}; mean - 0.85; std - 0.02\n",
      "4 params - {'vect__max_df': 0.7, 'vect__min_df': 5, 'vect__ngram_range': (1, 1)}; mean - 0.84; std - 0.00\n",
      "5 params - {'vect__max_df': 0.7, 'vect__min_df': 5, 'vect__ngram_range': (1, 3)}; mean - 0.85; std - 0.02\n",
      "6 params - {'vect__max_df': 0.7, 'vect__min_df': 6, 'vect__ngram_range': (1, 1)}; mean - 0.84; std - 0.01\n",
      "7 params - {'vect__max_df': 0.7, 'vect__min_df': 6, 'vect__ngram_range': (1, 3)}; mean - 0.86; std - 0.02\n",
      "8 params - {'vect__max_df': 0.8, 'vect__min_df': 3, 'vect__ngram_range': (1, 1)}; mean - 0.84; std - 0.00\n",
      "9 params - {'vect__max_df': 0.8, 'vect__min_df': 3, 'vect__ngram_range': (1, 3)}; mean - 0.85; std - 0.02\n",
      "10 params - {'vect__max_df': 0.8, 'vect__min_df': 4, 'vect__ngram_range': (1, 1)}; mean - 0.84; std - 0.01\n",
      "11 params - {'vect__max_df': 0.8, 'vect__min_df': 4, 'vect__ngram_range': (1, 3)}; mean - 0.85; std - 0.02\n",
      "12 params - {'vect__max_df': 0.8, 'vect__min_df': 5, 'vect__ngram_range': (1, 1)}; mean - 0.83; std - 0.01\n",
      "13 params - {'vect__max_df': 0.8, 'vect__min_df': 5, 'vect__ngram_range': (1, 3)}; mean - 0.85; std - 0.02\n",
      "14 params - {'vect__max_df': 0.8, 'vect__min_df': 6, 'vect__ngram_range': (1, 1)}; mean - 0.83; std - 0.00\n",
      "15 params - {'vect__max_df': 0.8, 'vect__min_df': 6, 'vect__ngram_range': (1, 3)}; mean - 0.86; std - 0.02\n",
      "16 params - {'vect__max_df': 0.9, 'vect__min_df': 3, 'vect__ngram_range': (1, 1)}; mean - 0.83; std - 0.00\n",
      "17 params - {'vect__max_df': 0.9, 'vect__min_df': 3, 'vect__ngram_range': (1, 3)}; mean - 0.85; std - 0.02\n",
      "18 params - {'vect__max_df': 0.9, 'vect__min_df': 4, 'vect__ngram_range': (1, 1)}; mean - 0.83; std - 0.01\n",
      "19 params - {'vect__max_df': 0.9, 'vect__min_df': 4, 'vect__ngram_range': (1, 3)}; mean - 0.85; std - 0.02\n",
      "20 params - {'vect__max_df': 0.9, 'vect__min_df': 5, 'vect__ngram_range': (1, 1)}; mean - 0.83; std - 0.01\n",
      "21 params - {'vect__max_df': 0.9, 'vect__min_df': 5, 'vect__ngram_range': (1, 3)}; mean - 0.85; std - 0.02\n",
      "22 params - {'vect__max_df': 0.9, 'vect__min_df': 6, 'vect__ngram_range': (1, 1)}; mean - 0.83; std - 0.01\n",
      "23 params - {'vect__max_df': 0.9, 'vect__min_df': 6, 'vect__ngram_range': (1, 3)}; mean - 0.86; std - 0.02\n",
      "24 params - {'vect__max_df': 0.95, 'vect__min_df': 3, 'vect__ngram_range': (1, 1)}; mean - 0.83; std - 0.00\n",
      "25 params - {'vect__max_df': 0.95, 'vect__min_df': 3, 'vect__ngram_range': (1, 3)}; mean - 0.85; std - 0.02\n",
      "26 params - {'vect__max_df': 0.95, 'vect__min_df': 4, 'vect__ngram_range': (1, 1)}; mean - 0.83; std - 0.00\n",
      "27 params - {'vect__max_df': 0.95, 'vect__min_df': 4, 'vect__ngram_range': (1, 3)}; mean - 0.85; std - 0.02\n",
      "28 params - {'vect__max_df': 0.95, 'vect__min_df': 5, 'vect__ngram_range': (1, 1)}; mean - 0.83; std - 0.01\n",
      "29 params - {'vect__max_df': 0.95, 'vect__min_df': 5, 'vect__ngram_range': (1, 3)}; mean - 0.85; std - 0.02\n",
      "30 params - {'vect__max_df': 0.95, 'vect__min_df': 6, 'vect__ngram_range': (1, 1)}; mean - 0.83; std - 0.01\n",
      "31 params - {'vect__max_df': 0.95, 'vect__min_df': 6, 'vect__ngram_range': (1, 3)}; mean - 0.86; std - 0.02\n",
      "              precision    recall  f1-score   support\n",
      "\n",
      "         neg       0.88      0.87      0.88       260\n",
      "         pos       0.86      0.87      0.87       240\n",
      "\n",
      "    accuracy                           0.87       500\n",
      "   macro avg       0.87      0.87      0.87       500\n",
      "weighted avg       0.87      0.87      0.87       500\n",
      "\n",
      "[[227  33]\n",
      " [ 31 209]]\n",
      "Performance of KNN: \n",
      "\n",
      "0 params - {'clf__n_neighbors': 3, 'vect__max_df': 0.7, 'vect__min_df': 3, 'vect__ngram_range': (1, 1)}; mean - 0.66; std - 0.03\n",
      "1 params - {'clf__n_neighbors': 3, 'vect__max_df': 0.7, 'vect__min_df': 3, 'vect__ngram_range': (1, 3)}; mean - 0.66; std - 0.04\n",
      "2 params - {'clf__n_neighbors': 3, 'vect__max_df': 0.7, 'vect__min_df': 4, 'vect__ngram_range': (1, 1)}; mean - 0.66; std - 0.03\n",
      "3 params - {'clf__n_neighbors': 3, 'vect__max_df': 0.7, 'vect__min_df': 4, 'vect__ngram_range': (1, 3)}; mean - 0.67; std - 0.03\n",
      "4 params - {'clf__n_neighbors': 3, 'vect__max_df': 0.7, 'vect__min_df': 5, 'vect__ngram_range': (1, 1)}; mean - 0.66; std - 0.04\n",
      "5 params - {'clf__n_neighbors': 3, 'vect__max_df': 0.7, 'vect__min_df': 5, 'vect__ngram_range': (1, 3)}; mean - 0.68; std - 0.03\n",
      "6 params - {'clf__n_neighbors': 3, 'vect__max_df': 0.7, 'vect__min_df': 6, 'vect__ngram_range': (1, 1)}; mean - 0.66; std - 0.04\n",
      "7 params - {'clf__n_neighbors': 3, 'vect__max_df': 0.7, 'vect__min_df': 6, 'vect__ngram_range': (1, 3)}; mean - 0.67; std - 0.04\n",
      "8 params - {'clf__n_neighbors': 3, 'vect__max_df': 0.8, 'vect__min_df': 3, 'vect__ngram_range': (1, 1)}; mean - 0.66; std - 0.03\n",
      "9 params - {'clf__n_neighbors': 3, 'vect__max_df': 0.8, 'vect__min_df': 3, 'vect__ngram_range': (1, 3)}; mean - 0.68; std - 0.02\n",
      "10 params - {'clf__n_neighbors': 3, 'vect__max_df': 0.8, 'vect__min_df': 4, 'vect__ngram_range': (1, 1)}; mean - 0.66; std - 0.03\n",
      "11 params - {'clf__n_neighbors': 3, 'vect__max_df': 0.8, 'vect__min_df': 4, 'vect__ngram_range': (1, 3)}; mean - 0.67; std - 0.03\n",
      "12 params - {'clf__n_neighbors': 3, 'vect__max_df': 0.8, 'vect__min_df': 5, 'vect__ngram_range': (1, 1)}; mean - 0.66; std - 0.03\n",
      "13 params - {'clf__n_neighbors': 3, 'vect__max_df': 0.8, 'vect__min_df': 5, 'vect__ngram_range': (1, 3)}; mean - 0.68; std - 0.04\n",
      "14 params - {'clf__n_neighbors': 3, 'vect__max_df': 0.8, 'vect__min_df': 6, 'vect__ngram_range': (1, 1)}; mean - 0.66; std - 0.03\n",
      "15 params - {'clf__n_neighbors': 3, 'vect__max_df': 0.8, 'vect__min_df': 6, 'vect__ngram_range': (1, 3)}; mean - 0.68; std - 0.04\n",
      "16 params - {'clf__n_neighbors': 3, 'vect__max_df': 0.9, 'vect__min_df': 3, 'vect__ngram_range': (1, 1)}; mean - 0.66; std - 0.02\n",
      "17 params - {'clf__n_neighbors': 3, 'vect__max_df': 0.9, 'vect__min_df': 3, 'vect__ngram_range': (1, 3)}; mean - 0.69; std - 0.04\n",
      "18 params - {'clf__n_neighbors': 3, 'vect__max_df': 0.9, 'vect__min_df': 4, 'vect__ngram_range': (1, 1)}; mean - 0.67; std - 0.03\n",
      "19 params - {'clf__n_neighbors': 3, 'vect__max_df': 0.9, 'vect__min_df': 4, 'vect__ngram_range': (1, 3)}; mean - 0.68; std - 0.04\n",
      "20 params - {'clf__n_neighbors': 3, 'vect__max_df': 0.9, 'vect__min_df': 5, 'vect__ngram_range': (1, 1)}; mean - 0.66; std - 0.03\n",
      "21 params - {'clf__n_neighbors': 3, 'vect__max_df': 0.9, 'vect__min_df': 5, 'vect__ngram_range': (1, 3)}; mean - 0.69; std - 0.04\n",
      "22 params - {'clf__n_neighbors': 3, 'vect__max_df': 0.9, 'vect__min_df': 6, 'vect__ngram_range': (1, 1)}; mean - 0.67; std - 0.03\n",
      "23 params - {'clf__n_neighbors': 3, 'vect__max_df': 0.9, 'vect__min_df': 6, 'vect__ngram_range': (1, 3)}; mean - 0.68; std - 0.04\n",
      "24 params - {'clf__n_neighbors': 3, 'vect__max_df': 0.95, 'vect__min_df': 3, 'vect__ngram_range': (1, 1)}; mean - 0.66; std - 0.02\n",
      "25 params - {'clf__n_neighbors': 3, 'vect__max_df': 0.95, 'vect__min_df': 3, 'vect__ngram_range': (1, 3)}; mean - 0.68; std - 0.04\n",
      "26 params - {'clf__n_neighbors': 3, 'vect__max_df': 0.95, 'vect__min_df': 4, 'vect__ngram_range': (1, 1)}; mean - 0.67; std - 0.02\n",
      "27 params - {'clf__n_neighbors': 3, 'vect__max_df': 0.95, 'vect__min_df': 4, 'vect__ngram_range': (1, 3)}; mean - 0.68; std - 0.04\n",
      "28 params - {'clf__n_neighbors': 3, 'vect__max_df': 0.95, 'vect__min_df': 5, 'vect__ngram_range': (1, 1)}; mean - 0.67; std - 0.03\n",
      "29 params - {'clf__n_neighbors': 3, 'vect__max_df': 0.95, 'vect__min_df': 5, 'vect__ngram_range': (1, 3)}; mean - 0.69; std - 0.04\n",
      "30 params - {'clf__n_neighbors': 3, 'vect__max_df': 0.95, 'vect__min_df': 6, 'vect__ngram_range': (1, 1)}; mean - 0.66; std - 0.03\n",
      "31 params - {'clf__n_neighbors': 3, 'vect__max_df': 0.95, 'vect__min_df': 6, 'vect__ngram_range': (1, 3)}; mean - 0.69; std - 0.04\n",
      "32 params - {'clf__n_neighbors': 12, 'vect__max_df': 0.7, 'vect__min_df': 3, 'vect__ngram_range': (1, 1)}; mean - 0.69; std - 0.02\n",
      "33 params - {'clf__n_neighbors': 12, 'vect__max_df': 0.7, 'vect__min_df': 3, 'vect__ngram_range': (1, 3)}; mean - 0.70; std - 0.02\n",
      "34 params - {'clf__n_neighbors': 12, 'vect__max_df': 0.7, 'vect__min_df': 4, 'vect__ngram_range': (1, 1)}; mean - 0.70; std - 0.02\n",
      "35 params - {'clf__n_neighbors': 12, 'vect__max_df': 0.7, 'vect__min_df': 4, 'vect__ngram_range': (1, 3)}; mean - 0.70; std - 0.03\n",
      "36 params - {'clf__n_neighbors': 12, 'vect__max_df': 0.7, 'vect__min_df': 5, 'vect__ngram_range': (1, 1)}; mean - 0.70; std - 0.02\n",
      "37 params - {'clf__n_neighbors': 12, 'vect__max_df': 0.7, 'vect__min_df': 5, 'vect__ngram_range': (1, 3)}; mean - 0.70; std - 0.02\n",
      "38 params - {'clf__n_neighbors': 12, 'vect__max_df': 0.7, 'vect__min_df': 6, 'vect__ngram_range': (1, 1)}; mean - 0.70; std - 0.02\n",
      "39 params - {'clf__n_neighbors': 12, 'vect__max_df': 0.7, 'vect__min_df': 6, 'vect__ngram_range': (1, 3)}; mean - 0.69; std - 0.02\n",
      "40 params - {'clf__n_neighbors': 12, 'vect__max_df': 0.8, 'vect__min_df': 3, 'vect__ngram_range': (1, 1)}; mean - 0.69; std - 0.01\n",
      "41 params - {'clf__n_neighbors': 12, 'vect__max_df': 0.8, 'vect__min_df': 3, 'vect__ngram_range': (1, 3)}; mean - 0.70; std - 0.01\n",
      "42 params - {'clf__n_neighbors': 12, 'vect__max_df': 0.8, 'vect__min_df': 4, 'vect__ngram_range': (1, 1)}; mean - 0.70; std - 0.02\n",
      "43 params - {'clf__n_neighbors': 12, 'vect__max_df': 0.8, 'vect__min_df': 4, 'vect__ngram_range': (1, 3)}; mean - 0.70; std - 0.02\n",
      "44 params - {'clf__n_neighbors': 12, 'vect__max_df': 0.8, 'vect__min_df': 5, 'vect__ngram_range': (1, 1)}; mean - 0.69; std - 0.02\n",
      "45 params - {'clf__n_neighbors': 12, 'vect__max_df': 0.8, 'vect__min_df': 5, 'vect__ngram_range': (1, 3)}; mean - 0.70; std - 0.01\n",
      "46 params - {'clf__n_neighbors': 12, 'vect__max_df': 0.8, 'vect__min_df': 6, 'vect__ngram_range': (1, 1)}; mean - 0.70; std - 0.01\n",
      "47 params - {'clf__n_neighbors': 12, 'vect__max_df': 0.8, 'vect__min_df': 6, 'vect__ngram_range': (1, 3)}; mean - 0.70; std - 0.02\n",
      "48 params - {'clf__n_neighbors': 12, 'vect__max_df': 0.9, 'vect__min_df': 3, 'vect__ngram_range': (1, 1)}; mean - 0.70; std - 0.02\n",
      "49 params - {'clf__n_neighbors': 12, 'vect__max_df': 0.9, 'vect__min_df': 3, 'vect__ngram_range': (1, 3)}; mean - 0.70; std - 0.03\n",
      "50 params - {'clf__n_neighbors': 12, 'vect__max_df': 0.9, 'vect__min_df': 4, 'vect__ngram_range': (1, 1)}; mean - 0.70; std - 0.02\n",
      "51 params - {'clf__n_neighbors': 12, 'vect__max_df': 0.9, 'vect__min_df': 4, 'vect__ngram_range': (1, 3)}; mean - 0.70; std - 0.02\n",
      "52 params - {'clf__n_neighbors': 12, 'vect__max_df': 0.9, 'vect__min_df': 5, 'vect__ngram_range': (1, 1)}; mean - 0.71; std - 0.02\n",
      "53 params - {'clf__n_neighbors': 12, 'vect__max_df': 0.9, 'vect__min_df': 5, 'vect__ngram_range': (1, 3)}; mean - 0.70; std - 0.02\n",
      "54 params - {'clf__n_neighbors': 12, 'vect__max_df': 0.9, 'vect__min_df': 6, 'vect__ngram_range': (1, 1)}; mean - 0.70; std - 0.02\n",
      "55 params - {'clf__n_neighbors': 12, 'vect__max_df': 0.9, 'vect__min_df': 6, 'vect__ngram_range': (1, 3)}; mean - 0.70; std - 0.02\n",
      "56 params - {'clf__n_neighbors': 12, 'vect__max_df': 0.95, 'vect__min_df': 3, 'vect__ngram_range': (1, 1)}; mean - 0.70; std - 0.02\n",
      "57 params - {'clf__n_neighbors': 12, 'vect__max_df': 0.95, 'vect__min_df': 3, 'vect__ngram_range': (1, 3)}; mean - 0.70; std - 0.03\n",
      "58 params - {'clf__n_neighbors': 12, 'vect__max_df': 0.95, 'vect__min_df': 4, 'vect__ngram_range': (1, 1)}; mean - 0.70; std - 0.03\n",
      "59 params - {'clf__n_neighbors': 12, 'vect__max_df': 0.95, 'vect__min_df': 4, 'vect__ngram_range': (1, 3)}; mean - 0.70; std - 0.02\n",
      "60 params - {'clf__n_neighbors': 12, 'vect__max_df': 0.95, 'vect__min_df': 5, 'vect__ngram_range': (1, 1)}; mean - 0.71; std - 0.02\n",
      "61 params - {'clf__n_neighbors': 12, 'vect__max_df': 0.95, 'vect__min_df': 5, 'vect__ngram_range': (1, 3)}; mean - 0.70; std - 0.01\n",
      "62 params - {'clf__n_neighbors': 12, 'vect__max_df': 0.95, 'vect__min_df': 6, 'vect__ngram_range': (1, 1)}; mean - 0.71; std - 0.02\n",
      "63 params - {'clf__n_neighbors': 12, 'vect__max_df': 0.95, 'vect__min_df': 6, 'vect__ngram_range': (1, 3)}; mean - 0.70; std - 0.02\n",
      "64 params - {'clf__n_neighbors': 15, 'vect__max_df': 0.7, 'vect__min_df': 3, 'vect__ngram_range': (1, 1)}; mean - 0.71; std - 0.02\n",
      "65 params - {'clf__n_neighbors': 15, 'vect__max_df': 0.7, 'vect__min_df': 3, 'vect__ngram_range': (1, 3)}; mean - 0.70; std - 0.02\n",
      "66 params - {'clf__n_neighbors': 15, 'vect__max_df': 0.7, 'vect__min_df': 4, 'vect__ngram_range': (1, 1)}; mean - 0.70; std - 0.02\n",
      "67 params - {'clf__n_neighbors': 15, 'vect__max_df': 0.7, 'vect__min_df': 4, 'vect__ngram_range': (1, 3)}; mean - 0.70; std - 0.02\n",
      "68 params - {'clf__n_neighbors': 15, 'vect__max_df': 0.7, 'vect__min_df': 5, 'vect__ngram_range': (1, 1)}; mean - 0.71; std - 0.02\n",
      "69 params - {'clf__n_neighbors': 15, 'vect__max_df': 0.7, 'vect__min_df': 5, 'vect__ngram_range': (1, 3)}; mean - 0.70; std - 0.01\n",
      "70 params - {'clf__n_neighbors': 15, 'vect__max_df': 0.7, 'vect__min_df': 6, 'vect__ngram_range': (1, 1)}; mean - 0.71; std - 0.02\n",
      "71 params - {'clf__n_neighbors': 15, 'vect__max_df': 0.7, 'vect__min_df': 6, 'vect__ngram_range': (1, 3)}; mean - 0.70; std - 0.01\n",
      "72 params - {'clf__n_neighbors': 15, 'vect__max_df': 0.8, 'vect__min_df': 3, 'vect__ngram_range': (1, 1)}; mean - 0.71; std - 0.02\n",
      "73 params - {'clf__n_neighbors': 15, 'vect__max_df': 0.8, 'vect__min_df': 3, 'vect__ngram_range': (1, 3)}; mean - 0.71; std - 0.02\n",
      "74 params - {'clf__n_neighbors': 15, 'vect__max_df': 0.8, 'vect__min_df': 4, 'vect__ngram_range': (1, 1)}; mean - 0.71; std - 0.01\n",
      "75 params - {'clf__n_neighbors': 15, 'vect__max_df': 0.8, 'vect__min_df': 4, 'vect__ngram_range': (1, 3)}; mean - 0.71; std - 0.02\n",
      "76 params - {'clf__n_neighbors': 15, 'vect__max_df': 0.8, 'vect__min_df': 5, 'vect__ngram_range': (1, 1)}; mean - 0.70; std - 0.01\n",
      "77 params - {'clf__n_neighbors': 15, 'vect__max_df': 0.8, 'vect__min_df': 5, 'vect__ngram_range': (1, 3)}; mean - 0.71; std - 0.01\n",
      "78 params - {'clf__n_neighbors': 15, 'vect__max_df': 0.8, 'vect__min_df': 6, 'vect__ngram_range': (1, 1)}; mean - 0.70; std - 0.02\n",
      "79 params - {'clf__n_neighbors': 15, 'vect__max_df': 0.8, 'vect__min_df': 6, 'vect__ngram_range': (1, 3)}; mean - 0.72; std - 0.01\n",
      "80 params - {'clf__n_neighbors': 15, 'vect__max_df': 0.9, 'vect__min_df': 3, 'vect__ngram_range': (1, 1)}; mean - 0.71; std - 0.02\n",
      "81 params - {'clf__n_neighbors': 15, 'vect__max_df': 0.9, 'vect__min_df': 3, 'vect__ngram_range': (1, 3)}; mean - 0.70; std - 0.03\n",
      "82 params - {'clf__n_neighbors': 15, 'vect__max_df': 0.9, 'vect__min_df': 4, 'vect__ngram_range': (1, 1)}; mean - 0.70; std - 0.02\n",
      "83 params - {'clf__n_neighbors': 15, 'vect__max_df': 0.9, 'vect__min_df': 4, 'vect__ngram_range': (1, 3)}; mean - 0.70; std - 0.01\n",
      "84 params - {'clf__n_neighbors': 15, 'vect__max_df': 0.9, 'vect__min_df': 5, 'vect__ngram_range': (1, 1)}; mean - 0.71; std - 0.02\n",
      "85 params - {'clf__n_neighbors': 15, 'vect__max_df': 0.9, 'vect__min_df': 5, 'vect__ngram_range': (1, 3)}; mean - 0.68; std - 0.02\n",
      "86 params - {'clf__n_neighbors': 15, 'vect__max_df': 0.9, 'vect__min_df': 6, 'vect__ngram_range': (1, 1)}; mean - 0.71; std - 0.02\n",
      "87 params - {'clf__n_neighbors': 15, 'vect__max_df': 0.9, 'vect__min_df': 6, 'vect__ngram_range': (1, 3)}; mean - 0.70; std - 0.02\n",
      "88 params - {'clf__n_neighbors': 15, 'vect__max_df': 0.95, 'vect__min_df': 3, 'vect__ngram_range': (1, 1)}; mean - 0.71; std - 0.02\n",
      "89 params - {'clf__n_neighbors': 15, 'vect__max_df': 0.95, 'vect__min_df': 3, 'vect__ngram_range': (1, 3)}; mean - 0.69; std - 0.02\n",
      "90 params - {'clf__n_neighbors': 15, 'vect__max_df': 0.95, 'vect__min_df': 4, 'vect__ngram_range': (1, 1)}; mean - 0.71; std - 0.03\n",
      "91 params - {'clf__n_neighbors': 15, 'vect__max_df': 0.95, 'vect__min_df': 4, 'vect__ngram_range': (1, 3)}; mean - 0.69; std - 0.02\n",
      "92 params - {'clf__n_neighbors': 15, 'vect__max_df': 0.95, 'vect__min_df': 5, 'vect__ngram_range': (1, 1)}; mean - 0.72; std - 0.03\n",
      "93 params - {'clf__n_neighbors': 15, 'vect__max_df': 0.95, 'vect__min_df': 5, 'vect__ngram_range': (1, 3)}; mean - 0.70; std - 0.02\n",
      "94 params - {'clf__n_neighbors': 15, 'vect__max_df': 0.95, 'vect__min_df': 6, 'vect__ngram_range': (1, 1)}; mean - 0.71; std - 0.02\n",
      "95 params - {'clf__n_neighbors': 15, 'vect__max_df': 0.95, 'vect__min_df': 6, 'vect__ngram_range': (1, 3)}; mean - 0.70; std - 0.02\n",
      "96 params - {'clf__n_neighbors': 20, 'vect__max_df': 0.7, 'vect__min_df': 3, 'vect__ngram_range': (1, 1)}; mean - 0.71; std - 0.03\n",
      "97 params - {'clf__n_neighbors': 20, 'vect__max_df': 0.7, 'vect__min_df': 3, 'vect__ngram_range': (1, 3)}; mean - 0.71; std - 0.03\n",
      "98 params - {'clf__n_neighbors': 20, 'vect__max_df': 0.7, 'vect__min_df': 4, 'vect__ngram_range': (1, 1)}; mean - 0.71; std - 0.02\n",
      "99 params - {'clf__n_neighbors': 20, 'vect__max_df': 0.7, 'vect__min_df': 4, 'vect__ngram_range': (1, 3)}; mean - 0.72; std - 0.02\n",
      "100 params - {'clf__n_neighbors': 20, 'vect__max_df': 0.7, 'vect__min_df': 5, 'vect__ngram_range': (1, 1)}; mean - 0.71; std - 0.03\n",
      "101 params - {'clf__n_neighbors': 20, 'vect__max_df': 0.7, 'vect__min_df': 5, 'vect__ngram_range': (1, 3)}; mean - 0.72; std - 0.02\n",
      "102 params - {'clf__n_neighbors': 20, 'vect__max_df': 0.7, 'vect__min_df': 6, 'vect__ngram_range': (1, 1)}; mean - 0.71; std - 0.03\n",
      "103 params - {'clf__n_neighbors': 20, 'vect__max_df': 0.7, 'vect__min_df': 6, 'vect__ngram_range': (1, 3)}; mean - 0.73; std - 0.02\n",
      "104 params - {'clf__n_neighbors': 20, 'vect__max_df': 0.8, 'vect__min_df': 3, 'vect__ngram_range': (1, 1)}; mean - 0.72; std - 0.01\n",
      "105 params - {'clf__n_neighbors': 20, 'vect__max_df': 0.8, 'vect__min_df': 3, 'vect__ngram_range': (1, 3)}; mean - 0.73; std - 0.02\n",
      "106 params - {'clf__n_neighbors': 20, 'vect__max_df': 0.8, 'vect__min_df': 4, 'vect__ngram_range': (1, 1)}; mean - 0.72; std - 0.02\n",
      "107 params - {'clf__n_neighbors': 20, 'vect__max_df': 0.8, 'vect__min_df': 4, 'vect__ngram_range': (1, 3)}; mean - 0.73; std - 0.03\n",
      "108 params - {'clf__n_neighbors': 20, 'vect__max_df': 0.8, 'vect__min_df': 5, 'vect__ngram_range': (1, 1)}; mean - 0.72; std - 0.02\n",
      "109 params - {'clf__n_neighbors': 20, 'vect__max_df': 0.8, 'vect__min_df': 5, 'vect__ngram_range': (1, 3)}; mean - 0.73; std - 0.02\n",
      "110 params - {'clf__n_neighbors': 20, 'vect__max_df': 0.8, 'vect__min_df': 6, 'vect__ngram_range': (1, 1)}; mean - 0.70; std - 0.03\n",
      "111 params - {'clf__n_neighbors': 20, 'vect__max_df': 0.8, 'vect__min_df': 6, 'vect__ngram_range': (1, 3)}; mean - 0.73; std - 0.01\n",
      "112 params - {'clf__n_neighbors': 20, 'vect__max_df': 0.9, 'vect__min_df': 3, 'vect__ngram_range': (1, 1)}; mean - 0.72; std - 0.01\n",
      "113 params - {'clf__n_neighbors': 20, 'vect__max_df': 0.9, 'vect__min_df': 3, 'vect__ngram_range': (1, 3)}; mean - 0.70; std - 0.02\n",
      "114 params - {'clf__n_neighbors': 20, 'vect__max_df': 0.9, 'vect__min_df': 4, 'vect__ngram_range': (1, 1)}; mean - 0.72; std - 0.02\n",
      "115 params - {'clf__n_neighbors': 20, 'vect__max_df': 0.9, 'vect__min_df': 4, 'vect__ngram_range': (1, 3)}; mean - 0.72; std - 0.02\n",
      "116 params - {'clf__n_neighbors': 20, 'vect__max_df': 0.9, 'vect__min_df': 5, 'vect__ngram_range': (1, 1)}; mean - 0.71; std - 0.03\n",
      "117 params - {'clf__n_neighbors': 20, 'vect__max_df': 0.9, 'vect__min_df': 5, 'vect__ngram_range': (1, 3)}; mean - 0.71; std - 0.03\n",
      "118 params - {'clf__n_neighbors': 20, 'vect__max_df': 0.9, 'vect__min_df': 6, 'vect__ngram_range': (1, 1)}; mean - 0.71; std - 0.02\n",
      "119 params - {'clf__n_neighbors': 20, 'vect__max_df': 0.9, 'vect__min_df': 6, 'vect__ngram_range': (1, 3)}; mean - 0.72; std - 0.02\n",
      "120 params - {'clf__n_neighbors': 20, 'vect__max_df': 0.95, 'vect__min_df': 3, 'vect__ngram_range': (1, 1)}; mean - 0.73; std - 0.01\n",
      "121 params - {'clf__n_neighbors': 20, 'vect__max_df': 0.95, 'vect__min_df': 3, 'vect__ngram_range': (1, 3)}; mean - 0.70; std - 0.02\n",
      "122 params - {'clf__n_neighbors': 20, 'vect__max_df': 0.95, 'vect__min_df': 4, 'vect__ngram_range': (1, 1)}; mean - 0.72; std - 0.02\n",
      "123 params - {'clf__n_neighbors': 20, 'vect__max_df': 0.95, 'vect__min_df': 4, 'vect__ngram_range': (1, 3)}; mean - 0.71; std - 0.03\n",
      "124 params - {'clf__n_neighbors': 20, 'vect__max_df': 0.95, 'vect__min_df': 5, 'vect__ngram_range': (1, 1)}; mean - 0.72; std - 0.02\n",
      "125 params - {'clf__n_neighbors': 20, 'vect__max_df': 0.95, 'vect__min_df': 5, 'vect__ngram_range': (1, 3)}; mean - 0.71; std - 0.02\n",
      "126 params - {'clf__n_neighbors': 20, 'vect__max_df': 0.95, 'vect__min_df': 6, 'vect__ngram_range': (1, 1)}; mean - 0.71; std - 0.02\n",
      "127 params - {'clf__n_neighbors': 20, 'vect__max_df': 0.95, 'vect__min_df': 6, 'vect__ngram_range': (1, 3)}; mean - 0.72; std - 0.02\n",
      "              precision    recall  f1-score   support\n",
      "\n",
      "         neg       0.75      0.74      0.74       260\n",
      "         pos       0.72      0.73      0.73       240\n",
      "\n",
      "    accuracy                           0.74       500\n",
      "   macro avg       0.74      0.74      0.74       500\n",
      "weighted avg       0.74      0.74      0.74       500\n",
      "\n",
      "[[192  68]\n",
      " [ 64 176]]\n"
     ]
    },
    {
     "name": "stderr",
     "output_type": "stream",
     "text": [
      "C:\\Users\\Willi\\anaconda3\\lib\\site-packages\\sklearn\\neighbors\\_classification.py:228: FutureWarning: Unlike other reduction functions (e.g. `skew`, `kurtosis`), the default behavior of `mode` typically preserves the axis it acts along. In SciPy 1.11.0, this behavior will change: the default value of `keepdims` will become False, the `axis` over which the statistic is taken will be eliminated, and the value None will no longer be accepted. Set `keepdims` to True or False to avoid this warning.\n",
      "  mode, _ = stats.mode(_y[neigh_ind, k], axis=1)\n"
     ]
    }
   ],
   "source": [
    "# Performance\n",
    "\n",
    "def calculate_performance_stats(grid_search):\n",
    "    # TASK: print the mean and std for each candidate along with the parameter\n",
    "    # settings for all the candidates explored by grid search.\n",
    "    n_candidates = len(grid_search.cv_results_['params'])\n",
    "    for i in range(n_candidates):\n",
    "        print(i, 'params - %s; mean - %0.2f; std - %0.2f'\n",
    "              % (grid_search.cv_results_['params'][i],\n",
    "                 grid_search.cv_results_['mean_test_score'][i],\n",
    "                 grid_search.cv_results_['std_test_score'][i]))\n",
    "\n",
    "    # TASK: Predict the outcome on the testing set and store it in a variable\n",
    "    # named y_predicted\n",
    "    y_predicted = grid_search.predict(docs_test)\n",
    "\n",
    "    # Print the classification report\n",
    "    print(metrics.classification_report(y_test, y_predicted,\n",
    "                                        target_names=dataset.target_names))\n",
    "\n",
    "    # Print and plot the confusion matrix\n",
    "    cm = metrics.confusion_matrix(y_test, y_predicted)\n",
    "    print(cm)\n",
    "\n",
    "print(\"Performance of Linear: \\n\")\n",
    "calculate_performance_stats(grid_search_linear)\n",
    "\n",
    "print(\"Performance of KNN: \\n\")\n",
    "calculate_performance_stats(grid_search_knn)"
   ],
   "metadata": {
    "collapsed": false
   }
  },
  {
   "cell_type": "markdown",
   "metadata": {},
   "source": [
    "---\n",
    "## Problem 4 (20 points): Open Ended Question:  Finding the Right Plot"
   ]
  },
  {
   "cell_type": "markdown",
   "metadata": {},
   "source": [
    "* Can you find a two-dimensional plot in which the positive and negative reviews are separated?\n",
    "    * This problem is hard since you will likely have thousands of features for review, and you will need to transform these thousands of features into just two numbers (so that you can make a 2D plot).\n",
    "* Note, I was not able to find such a plot myself!\n",
    "    * So, this problem is about **trying** but perhaps **not necessarily succeeding**!\n",
    "* I tried two things, neither of which worked very well.\n",
    "    * I first plotted the length of the review versus the number of features we compute that are in that review\n",
    "    * Second I used Principle Component Analysis on a subset of the features.\n",
    "* Can you do better than I did!?"
   ]
  },
  {
   "cell_type": "code",
   "execution_count": 18,
   "metadata": {},
   "outputs": [],
   "source": [
    "from sklearn.feature_extraction.text import TfidfVectorizer\n",
    "# Create feature vectors\n",
    "vectorizer = TfidfVectorizer(min_df = 5,\n",
    "                             max_df = 0.8,\n",
    "                             sublinear_tf = True,\n",
    "                             use_idf = True)\n",
    "train_vectors = vectorizer.fit_transform(docs_train)\n",
    "test_vectors = vectorizer.transform(docs_test)\n"
   ]
  },
  {
   "cell_type": "code",
   "execution_count": 20,
   "outputs": [
    {
     "name": "stdout",
     "output_type": "stream",
     "text": [
      "Training time: 4.881511s; Prediction time: 1.421338s\n"
     ]
    }
   ],
   "source": [
    "import time\n",
    "from sklearn import svm\n",
    "from sklearn.metrics import classification_report\n",
    "# Perform classification with SVM, kernel=linear\n",
    "classifier_linear = svm.SVC(kernel='linear')\n",
    "t0 = time.time()\n",
    "classifier_linear.fit(train_vectors, y_train)\n",
    "t1 = time.time()\n",
    "prediction_linear = classifier_linear.predict(test_vectors)\n",
    "t2 = time.time()\n",
    "time_linear_train = t1-t0\n",
    "time_linear_predict = t2-t1\n",
    "# results\n",
    "print(\"Training time: %fs; Prediction time: %fs\" % (time_linear_train, time_linear_predict))\n",
    "report = classification_report(y_test, prediction_linear, output_dict=True)\n"
   ],
   "metadata": {
    "collapsed": false
   }
  },
  {
   "cell_type": "code",
   "execution_count": 21,
   "outputs": [
    {
     "name": "stdout",
     "output_type": "stream",
     "text": [
      "  (0, 21)\t0.04584665190953572\n",
      "  (0, 88)\t0.0354817542613837\n",
      "  (0, 133)\t0.024123623493751245\n",
      "  (0, 138)\t0.03481938654311024\n",
      "  (0, 139)\t0.029385559421139386\n",
      "  (0, 218)\t0.025867513603235567\n",
      "  (0, 220)\t0.018990410805850663\n",
      "  (0, 228)\t0.020907376469974006\n",
      "  (0, 229)\t0.0332153165270937\n",
      "  (0, 231)\t0.04011180839780755\n",
      "  (0, 298)\t0.047564583248325736\n",
      "  (0, 332)\t0.019424333553340254\n",
      "  (0, 367)\t0.031108932148020733\n",
      "  (0, 402)\t0.03232646009228996\n",
      "  (0, 403)\t0.029889385341397224\n",
      "  (0, 418)\t0.018713277662545623\n",
      "  (0, 420)\t0.020831586960207083\n",
      "  (0, 426)\t0.02833279753243769\n",
      "  (0, 434)\t0.04695144128484003\n",
      "  (0, 442)\t0.04487215861753387\n",
      "  (0, 475)\t0.1181657834560634\n",
      "  (0, 500)\t0.13463770100223024\n",
      "  (0, 503)\t0.037109262511126284\n",
      "  (0, 522)\t0.049283159671242284\n",
      "  (0, 523)\t0.05158149542126388\n",
      "  :\t:\n",
      "  (1499, 10174)\t0.07689981779560152\n",
      "  (1499, 10197)\t0.030734657242124836\n",
      "  (1499, 10328)\t0.10659486184143849\n",
      "  (1499, 10331)\t0.11055173458836035\n",
      "  (1499, 10343)\t0.0706309073414588\n",
      "  (1499, 10358)\t0.06456473007675248\n",
      "  (1499, 10396)\t0.05244006340035493\n",
      "  (1499, 10397)\t0.11055173458836035\n",
      "  (1499, 10402)\t0.07086577712122742\n",
      "  (1499, 10411)\t0.029024467031232664\n",
      "  (1499, 10418)\t0.06667403459453697\n",
      "  (1499, 10802)\t0.06630459604169806\n",
      "  (1499, 10887)\t0.029661083420569907\n",
      "  (1499, 10891)\t0.028089248970311818\n",
      "  (1499, 10931)\t0.028714529393329035\n",
      "  (1499, 10937)\t0.036091932136975036\n",
      "  (1499, 10947)\t0.040552752812578786\n",
      "  (1499, 10952)\t0.023438528233454065\n",
      "  (1499, 11004)\t0.07481438943830587\n",
      "  (1499, 11015)\t0.06950107245262836\n",
      "  (1499, 11087)\t0.05929848003569971\n",
      "  (1499, 11094)\t0.09978198949546915\n",
      "  (1499, 11113)\t0.027920568420048728\n",
      "  (1499, 11169)\t0.054893955487882305\n",
      "  (1499, 11183)\t0.10846315761137114\n"
     ]
    }
   ],
   "source": [
    "print(train_vectors)"
   ],
   "metadata": {
    "collapsed": false
   }
  },
  {
   "cell_type": "code",
   "execution_count": 53,
   "outputs": [
    {
     "data": {
      "text/plain": "Text(0.5, 1.0, 'Bad Vs Good Words')"
     },
     "execution_count": 53,
     "metadata": {},
     "output_type": "execute_result"
    },
    {
     "data": {
      "text/plain": "<Figure size 640x480 with 1 Axes>",
      "image/png": "[encoded data removed]"
     },
     "metadata": {},
     "output_type": "display_data"
    }
   ],
   "source": [
    "import matplotlib.pyplot as plt\n",
    "import numpy as np\n",
    "\n",
    "negative_words = ['bad', 'terrible', 'overdoes', 'confusing', 'failure', 'fail', 'lack', 'mundane', 'painfully', 'painful']\n",
    "positive_words = ['good', 'great', 'worth', 'recommend', 'excellent', 'adequate', 'nice', 'positive', 'awesome']\n",
    "\n",
    "count_negative = []\n",
    "count_positive = []\n",
    "\n",
    "for count, docs in enumerate(docs_test):\n",
    "\n",
    "    number_of_negative = 0\n",
    "    number_of_positive = 0\n",
    "\n",
    "    for words in str(docs).split(' '):\n",
    "        if words in positive_words:\n",
    "            number_of_positive += 1\n",
    "        if words in negative_words:\n",
    "            number_of_negative += 1\n",
    "\n",
    "\n",
    "    count_negative.append(number_of_negative)\n",
    "    count_positive.append(number_of_positive)\n",
    "\n",
    "x_test = np.column_stack((count_positive, count_negative))\n",
    "classifier_linear = svm.SVC(kernel='linear')\n",
    "classifier_linear.fit(x_test, y_test)\n",
    "\n",
    "plt.scatter(count_negative, count_positive, c=y_test)\n",
    "plt.xlabel('# Of \"Negative Words\" in Doc')\n",
    "plt.ylabel('# Of \"Positive Words\" in Doc')\n",
    "plt.title('Bad Vs Good Words')"
   ],
   "metadata": {
    "collapsed": false
   }
  },
  {
   "cell_type": "code",
   "execution_count": 37,
   "outputs": [
    {
     "name": "stdout",
     "output_type": "stream",
     "text": [
      "[0 0 1 ... 0 0 1]\n"
     ]
    }
   ],
   "source": [
    "print(y_train)"
   ],
   "metadata": {
    "collapsed": false
   }
  },
  {
   "cell_type": "code",
   "execution_count": null,
   "outputs": [],
   "source": [],
   "metadata": {
    "collapsed": false
   }
  }
 ],
 "metadata": {
  "kernel_info": {
   "name": "python3"
  },
  "kernelspec": {
   "display_name": "Python 3",
   "language": "python",
   "name": "python3"
  },
  "language_info": {
   "codemirror_mode": {
    "name": "ipython",
    "version": 3
   },
   "file_extension": ".py",
   "mimetype": "text/x-python",
   "name": "python",
   "nbconvert_exporter": "python",
   "pygments_lexer": "ipython3",
   "version": "3.8.5"
  },
  "nteract": {
   "version": "0.2.0"
  }
 },
 "nbformat": 4,
 "nbformat_minor": 4
}
